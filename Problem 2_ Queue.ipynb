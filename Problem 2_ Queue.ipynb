{
  "metadata": {
    "language_info": {
      "codemirror_mode": {
        "name": "python",
        "version": 3
      },
      "file_extension": ".py",
      "mimetype": "text/x-python",
      "name": "python",
      "nbconvert_exporter": "python",
      "pygments_lexer": "ipython3",
      "version": "3.8"
    },
    "kernelspec": {
      "name": "python",
      "display_name": "Python (Pyodide)",
      "language": "python"
    }
  },
  "nbformat_minor": 4,
  "nbformat": 4,
  "cells": [
    {
      "cell_type": "code",
      "source": "class Node:\n    def __init__(self, data):\n        self.data = data\n        self.next = None\n\nclass Queue:\n    def __init__(self):\n        self.head = None\n        self.tail = None\n    \n    def enqueue(self, data):\n        node = Node(data)\n        if self.is_empty():\n            self.head = node\n        else:\n            self.tail.next = node\n        self.tail = node\n    \n    def dequeue(self):\n        if self.is_empty():\n            raise Exception(\"Queue is empty\")\n        data = self.head.data\n        self.head = self.head.next\n        if self.is_empty():\n            self.tail = None\n        return data\n    \n    def peek(self):\n        if self.is_empty():\n            raise Exception(\"Queue is empty\")\n        return self.head.data\n    \n    def is_empty(self):\n        return self.head is None\n\n    \n    q = Queue()\n    q.enqueue(1)\n    q.enqueue(2)\n    q.enqueue(3)\n    assert q.peek() == 1\n    assert q.dequeue() == 1\n    assert q.dequeue() == 2\n    assert not q.is_empty()\n    assert q.dequeue() == 3\n    assert q.is_empty()\n\n    try:\n        q.peek()\n    except Exception as e:\n        assert str(e) == \"Queue is empty\"\n\n    try:\n        q.dequeue()\n    except Exception as e:\n        assert str(e) == \"Queue is empty\"\n\n        ",
      "metadata": {},
      "execution_count": null,
      "outputs": []
    },
    {
      "cell_type": "code",
      "source": "To create a queue, we define a Node class that represents a single element in the queue. Each node contains a piece of data and a reference to the next node in the queue. We then define the Queue class that manages the collection of nodes.\n\nThe Queue class has two instance variables: head and tail. These variables reference the first and last nodes in the queue, respectively. When a new node is added to the queue, it becomes the new tail node. When a node is removed from the queue, the head node is removed and the next node becomes the new head.\n\nThe enqueue method adds a new node to the back of the queue by creating a new Node object and setting its next reference to None. If the queue is empty, we set the head reference to the new node. Otherwise, we set the next reference of the current tail node to the new node, and update the tail reference to the new node.\n\nThe dequeue method removes and returns the first node in the queue by returning the data attribute of the head node, and setting the head node to the next node in the queue. If the queue becomes empty after removing the head node, we set the tail reference to None.\n\nThe peek method returns the data of the first node in the queue without removing it.\n\nThe is_empty method returns True if the head reference is None, indicating that the queue is empty, and False otherwise.\nIn terms of trade-offs, the linked list implementation has some advantages and disadvantages.\n\nOn the one hand, linked lists allow for efficient enqueue and dequeue operations, since adding and removing elements at the beginning or end of the list can be done in constant time.\n\nOn the other hand, linked lists use more memory than arrays for the same number of elements, since each node has an additional next reference. Additionally, indexing into the list or accessing elements at arbitrary positions is not possible with a linked list, which may be a limitation in certain use cases.",
      "metadata": {},
      "execution_count": null,
      "outputs": []
    }
  ]
}