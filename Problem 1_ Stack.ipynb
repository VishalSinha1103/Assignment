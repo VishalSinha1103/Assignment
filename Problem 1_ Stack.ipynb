{
  "metadata": {
    "language_info": {
      "codemirror_mode": {
        "name": "python",
        "version": 3
      },
      "file_extension": ".py",
      "mimetype": "text/x-python",
      "name": "python",
      "nbconvert_exporter": "python",
      "pygments_lexer": "ipython3",
      "version": "3.8"
    },
    "kernelspec": {
      "name": "python",
      "display_name": "Python (Pyodide)",
      "language": "python"
    }
  },
  "nbformat_minor": 4,
  "nbformat": 4,
  "cells": [
    {
      "cell_type": "code",
      "source": "class Node:\n    def __init__(self, data):\n        self.data = data\n        self.next = None\n        \nclass Stack:\n    def __init__(self):\n        self.top = None\n        \n    def push(self, item):\n        new_node = Node(item)\n        new_node.next = self.top\n        self.top = new_node\n        \n    def pop(self):\n        if self.top is None:\n            return None\n        popped_node = self.top\n        self.top = self.top.next\n        popped_node.next = None\n        return popped_node.data\n    \n    def peek(self):\n        if self.top is None:\n            return None\n        return self.top.data\n    \n    def is_empty(self):\n        return self.top is None\n\nstack = Stack()\nprint(stack.is_empty()) # True\nstack.push(1)\nstack.push(2)\nstack.push(3)\nprint(stack.peek()) # 3\nprint(stack.pop()) # 3\nprint(stack.peek()) # 2\nprint(stack.pop()) # 2\nprint(stack.pop()) # 1\nprint(stack.is_empty()) # True\nprint(stack.pop()) # None\n",
      "metadata": {
        "trusted": true
      },
      "execution_count": 1,
      "outputs": [
        {
          "name": "stdout",
          "text": "True\n3\n3\n2\n2\n1\nTrue\nNone\n",
          "output_type": "stream"
        }
      ]
    },
    {
      "cell_type": "code",
      "source": "In this implementation, a Node class is used to represent each item in the stack, with each Node having a reference to the next Node in the stack. The Stack class uses a top attribute to keep track of the top Node in the stack.\n\nThe push method creates a new Node with the given item and sets its next attribute to the current top Node, before setting the top attribute to the new Node.\n\nThe pop method removes and returns the current top Node by setting the top attribute to its next Node and returning its data.\n\nThe peek method returns the data of the current top Node without removing it.\n\nThe is_empty method returns True if the top attribute is None, indicating an empty stack.\nIn terms of trade-offs, this implementation has a space complexity of O(n) due to the use of a singly linked list, where n is the number of items in the stack. This means that more memory is used compared to using a built-in Python list, which has a space complexity of O(1). However, this implementation allows for efficient push and pop operations with a time complexity of O(1), as opposed to the O(n) time complexity of using a built-in Python list. Additionally, this implementation can easily be extended to support other operations, such as size and clear, if needed.",
      "metadata": {},
      "execution_count": null,
      "outputs": []
    }
  ]
}