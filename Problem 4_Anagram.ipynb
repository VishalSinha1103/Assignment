{
  "metadata": {
    "language_info": {
      "codemirror_mode": {
        "name": "python",
        "version": 3
      },
      "file_extension": ".py",
      "mimetype": "text/x-python",
      "name": "python",
      "nbconvert_exporter": "python",
      "pygments_lexer": "ipython3",
      "version": "3.8"
    },
    "kernelspec": {
      "name": "python",
      "display_name": "Python (Pyodide)",
      "language": "python"
    }
  },
  "nbformat_minor": 4,
  "nbformat": 4,
  "cells": [
    {
      "cell_type": "code",
      "source": "def is_anagram(str1, str2):\n    \"\"\"\n    Returns True if str1 and str2 are anagrams of each other, else False.\n    \"\"\"\n    # Convert both strings to lowercase and remove whitespace\n    str1 = str1.lower().replace(\" \", \"\")\n    str2 = str2.lower().replace(\" \", \"\")\n\n    # Check if both strings have the same length\n    if len(str1) != len(str2):\n        return False\n\n    # Create a dictionary to store the count of each character in str1\n    char_count = {}\n    for char in str1:\n        if char in char_count:\n            char_count[char] += 1\n        else:\n            char_count[char] = 1\n\n    # Iterate through str2 and check if each character count matches that in char_count\n    for char in str2:\n        if char not in char_count:\n            return False\n        char_count[char] -= 1\n        if char_count[char] == 0:\n            del char_count[char]\n\n    # If all characters in str2 have been accounted for, then str1 and str2 are anagrams\n    return True\nprint(is_anagram(\"cat\", \"tac\"))  # True",
      "metadata": {
        "trusted": true
      },
      "execution_count": 8,
      "outputs": [
        {
          "name": "stdout",
          "text": "True\n",
          "output_type": "stream"
        }
      ]
    },
    {
      "cell_type": "code",
      "source": "In this function, I first convert both input strings to lowercase and remove whitespace so that the function is case-insensitive and ignores any spaces. Then, I check if both strings have the same length, since two strings cannot be anagrams of each other if they have different lengths.\n\nNext, I create a dictionary char_count to store the count of each character in str1. I iterate through str1 and update the count in char_count for each character.\n\nFinally, I iterate through str2 and check if each character count matches that in char_count. If a character in str2 is not in char_count, or if the count of a character in str2 is greater than that in char_count, then the two strings are not anagrams of each other. Otherwise, I decrement the count of that character in char_count, and if the count becomes 0, I remove that character from char_count. If all characters in str2 have been accounted for, then the two strings are anagrams of each other.\n\nOne possible trade-off of this approach is that it requires O(n) extra space to store the dictionary char_count, where n is the length of the input strings. However, this trade-off is necessary to efficiently check if the two strings are anagrams of each other in O(n) time complexity. Another trade-off is that the function only works for single-word anagrams, but it can be easily modified to handle multi-word anagrams by splitting the input strings into lists of words and checking if the word counts match.\n\n\n\n\n\n",
      "metadata": {},
      "execution_count": null,
      "outputs": []
    }
  ]
}