{
  "metadata": {
    "language_info": {
      "codemirror_mode": {
        "name": "python",
        "version": 3
      },
      "file_extension": ".py",
      "mimetype": "text/x-python",
      "name": "python",
      "nbconvert_exporter": "python",
      "pygments_lexer": "ipython3",
      "version": "3.8"
    },
    "kernelspec": {
      "name": "python",
      "display_name": "Python (Pyodide)",
      "language": "python"
    }
  },
  "nbformat_minor": 4,
  "nbformat": 4,
  "cells": [
    {
      "cell_type": "code",
      "source": "def fizzbuzz(n):\n    print(\"\\n\".join([\"FizzBuzz\" if i % 15 == 0 else \"Fizz\" if i % 3 == 0 else \"Buzz\" if i % 5 == 0 else str(i) for i in range(1, n+1)]))\n\nfizzbuzz(20)\n",
      "metadata": {
        "trusted": true
      },
      "execution_count": 9,
      "outputs": [
        {
          "name": "stdout",
          "text": "1\n2\nFizz\n4\nBuzz\nFizz\n7\n8\nFizz\nBuzz\n11\nFizz\n13\n14\nFizzBuzz\n16\n17\nFizz\n19\nBuzz\n",
          "output_type": "stream"
        }
      ]
    },
    {
      "cell_type": "code",
      "source": "To break down this code:\n\nrange(1, n+1) creates a range of numbers from 1 to n (inclusive).\nThe list comprehension [...] iterates over each number in the range and generates either \"Fizz\", \"Buzz\", \"FizzBuzz\", or the number itself depending on whether the number is a multiple of 3, 5, both, or neither.\n\"FizzBuzz\" if i % 15 == 0 else \"Fizz\" if i % 3 == 0 else \"Buzz\" if i % 5 == 0 else str(i) is a ternary operator that returns \"FizzBuzz\" if the number is a multiple of both 3 and 5, \"Fizz\" if the number is a multiple of 3, \"Buzz\" if the number is a multiple of 5, or the number itself converted to a string.\nTrade-offs:\n\nThe one-liner code above is concise and efficient in terms of performance, but may be difficult to read for beginners or those unfamiliar with list comprehensions and ternary operators. Additionally, the function always prints the output to the console, so it may not be the best choice if the goal is to return the results for further processing.",
      "metadata": {},
      "execution_count": null,
      "outputs": []
    }
  ]
}