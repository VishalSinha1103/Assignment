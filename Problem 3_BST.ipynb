{
  "metadata": {
    "language_info": {
      "codemirror_mode": {
        "name": "python",
        "version": 3
      },
      "file_extension": ".py",
      "mimetype": "text/x-python",
      "name": "python",
      "nbconvert_exporter": "python",
      "pygments_lexer": "ipython3",
      "version": "3.8"
    },
    "kernelspec": {
      "name": "python",
      "display_name": "Python (Pyodide)",
      "language": "python"
    }
  },
  "nbformat_minor": 4,
  "nbformat": 4,
  "cells": [
    {
      "cell_type": "code",
      "source": "class Node:\n    def __init__(self, key):\n        self.left = None\n        self.right = None\n        self.val = key\n\nclass BinarySearchTree:\n    def __init__(self):\n        self.root = None\n        self.count = 0\n    \n    def insert(self, key):\n        if self.root is None:\n            self.root = Node(key)\n        else:\n            self._insert(self.root, key)\n        self.count += 1\n    \n    def _insert(self, node, key):\n        if key < node.val:\n            if node.left is None:\n                node.left = Node(key)\n            else:\n                self._insert(node.left, key)\n        else:\n            if node.right is None:\n                node.right = Node(key)\n            else:\n                self._insert(node.right, key)\n    \n    def search(self, key):\n        return self._search(self.root, key)\n    \n    def _search(self, node, key):\n        if node is None:\n            return False\n        elif node.val == key:\n            return True\n        elif key < node.val:\n            return self._search(node.left, key)\n        else:\n            return self._search(node.right, key)\n    \n    def delete(self, key):\n        if self.root is None:\n            return None\n        else:\n            self.root = self._delete(self.root, key)\n        self.count -= 1\n        \n    def _delete(self, node, key):\n        if node is None:\n            return node\n        if key < node.val:\n            node.left = self._delete(node.left, key)\n        elif key > node.val:\n            node.right = self._delete(node.right, key)\n        else:\n            if node.left is None:\n                temp = node.right\n                node = None\n                return temp\n            elif node.right is None:\n                temp = node.left\n                node = None\n                return temp\n            temp = self.find_min_node(node.right)\n            node.val = temp.val\n            node.right = self._delete(node.right, temp.val)\n        return node\n    \n    def find_min_node(self, node):\n        current = node\n        while current.left is not None:\n            current = current.left\n        return current\n    \n    def size(self):\n        return self.count\n\n    \n    \nbst = BinarySearchTree()\nbst.insert(1)\nbst.insert(2)\nbst.insert(3)\nbst.insert(4)\nbst.insert(5)\nbst.insert(6)\n    \n\nprint(bst.search(5)) # True\nprint(bst.search(15)) # False\n\nbst.delete(4)\nprint(bst.search(4)) # False\n\nprint(bst.size()) # 5\n",
      "metadata": {
        "trusted": true
      },
      "execution_count": 7,
      "outputs": [
        {
          "name": "stdout",
          "text": "True\nFalse\nFalse\n5\n",
          "output_type": "stream"
        }
      ]
    },
    {
      "cell_type": "code",
      "source": "This implementation uses a TreeNode class to represent each node in the binary search tree, and a BST class to manage the tree. The insert method adds a new node to the tree in the appropriate position based on the node's value. The search method traverses the tree to find a node with a given value. The delete method removes a node from the tree, and uses the get_min_node function to find the minimum node in a subtree when deleting a node with two children.\nOverall, this implementation is fairly straightforward and efficient for small to medium-sized trees. However, it can become slow for very large trees, especially when inserting or deleting nodes. This is because traversing a large tree requires visiting many nodes, and modifying the structure of a large tree can require a lot of memory operations. Additionally, this implementation does not handle unbalanced trees well, which can lead to poor performance in some cases. To address these issues, more advanced data structures and algorithms can be used, such as AVL trees, red-black trees, or B-trees.",
      "metadata": {},
      "execution_count": null,
      "outputs": []
    }
  ]
}